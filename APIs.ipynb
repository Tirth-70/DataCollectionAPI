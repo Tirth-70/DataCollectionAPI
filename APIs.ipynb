{
 "cells": [
  {
   "cell_type": "raw",
   "id": "921a898a",
   "metadata": {},
   "source": [
    "website :- https://www.themoviedb.org # Sign up to get the API key\n",
    "\n",
    "Website API :- https://developer.themoviedb.org/reference/intro/getting-started\n",
    "\n",
    "Free APIs AllOver World Website :- https://rapidapi.com/hub\n",
    "\n",
    "Credits :- "
   ]
  },
  {
   "cell_type": "code",
   "execution_count": 1,
   "id": "1da64857",
   "metadata": {},
   "outputs": [],
   "source": [
    "import pandas as pd\n",
    "import requests"
   ]
  },
  {
   "cell_type": "code",
   "execution_count": 5,
   "id": "1ddfdab7",
   "metadata": {},
   "outputs": [],
   "source": [
    "response = requests.get('https://api.themoviedb.org/3/discover/tv?include_adult=false&language=en-US&page=1&sort_by=vote_average.desc&vote_count.gte=200&api_key=db1dacc11b43df2e7f2c0a45b48a341e')"
   ]
  },
  {
   "cell_type": "code",
   "execution_count": 17,
   "id": "63acca86",
   "metadata": {},
   "outputs": [
    {
     "data": {
      "text/plain": [
       "{'page': 1,\n",
       " 'results': [{'backdrop_path': '/bsNm9z2TJfe0WO3RedPGWQ8mG1X.jpg',\n",
       "   'first_air_date': '2008-01-20',\n",
       "   'genre_ids': [18, 80],\n",
       "   'id': 1396,\n",
       "   'name': 'Breaking Bad',\n",
       "   'origin_country': ['US'],\n",
       "   'original_language': 'en',\n",
       "   'original_name': 'Breaking Bad',\n",
       "   'overview': \"When Walter White, a New Mexico chemistry teacher, is diagnosed with Stage III cancer and given a prognosis of only two years left to live. He becomes filled with a sense of fearlessness and an unrelenting desire to secure his family's financial future at any cost as he enters the dangerous world of drugs and crime.\",\n",
       "   'popularity': 230.307,\n",
       "   'poster_path': '/ggFHVNu6YYI5L9pCfOacjizRGt.jpg',\n",
       "   'vote_average': 8.9,\n",
       "   'vote_count': 11663},\n",
       "  {'backdrop_path': '/rkB4LyZHo1NHXFEDHl9vSD9r1lI.jpg',\n",
       "   'first_air_date': '2021-11-06',\n",
       "   'genre_ids': [16, 10765, 10759, 18],\n",
       "   'id': 94605,\n",
       "   'name': 'Arcane',\n",
       "   'origin_country': ['US'],\n",
       "   'original_language': 'en',\n",
       "   'original_name': 'Arcane',\n",
       "   'overview': 'Amid the stark discord of twin cities Piltover and Zaun, two sisters fight on rival sides of a war between magic technologies and clashing convictions.',\n",
       "   'popularity': 62.227,\n",
       "   'poster_path': '/fqldf2t8ztc9aiwn3k6mlX3tvRT.jpg',\n",
       "   'vote_average': 8.8,\n",
       "   'vote_count': 3047},\n",
       "  {'backdrop_path': '/uDgy6hyPd82kOHh6I95FLtLnj6p.jpg',\n",
       "   'first_air_date': '2023-01-15',\n",
       "   'genre_ids': [18],\n",
       "   'id': 100088,\n",
       "   'name': 'The Last of Us',\n",
       "   'origin_country': ['US'],\n",
       "   'original_language': 'en',\n",
       "   'original_name': 'The Last of Us',\n",
       "   'overview': 'Twenty years after modern civilization has been destroyed, Joel, a hardened survivor, is hired to smuggle Ellie, a 14-year-old girl, out of an oppressive quarantine zone. What starts as a small job soon becomes a brutal, heartbreaking journey, as they both must traverse the United States and depend on each other for survival.',\n",
       "   'popularity': 477.713,\n",
       "   'poster_path': '/uKvVjHNqB5VmOrdxqAt2F7J78ED.jpg',\n",
       "   'vote_average': 8.7,\n",
       "   'vote_count': 3442},\n",
       "  {'backdrop_path': '/uGy4DCmM33I7l86W7iCskNkvmLD.jpg',\n",
       "   'first_air_date': '2013-12-02',\n",
       "   'genre_ids': [16, 35, 10765, 10759],\n",
       "   'id': 60625,\n",
       "   'name': 'Rick and Morty',\n",
       "   'origin_country': ['US'],\n",
       "   'original_language': 'en',\n",
       "   'original_name': 'Rick and Morty',\n",
       "   'overview': \"Rick is a mentally-unbalanced but scientifically gifted old man who has recently reconnected with his family. He spends most of his time involving his young grandson Morty in dangerous, outlandish adventures throughout space and alternate universes. Compounded with Morty's already unstable family life, these events cause Morty much distress at home and school.\",\n",
       "   'popularity': 203.475,\n",
       "   'poster_path': '/cvhNj9eoRBe5SxjCbQTkh05UP5K.jpg',\n",
       "   'vote_average': 8.7,\n",
       "   'vote_count': 8193},\n",
       "  {'backdrop_path': '/a6ptrTUH1c5OdWanjyYtAkOuYD0.jpg',\n",
       "   'first_air_date': '1999-10-20',\n",
       "   'genre_ids': [10759, 35, 16],\n",
       "   'id': 37854,\n",
       "   'name': 'One Piece',\n",
       "   'origin_country': ['JP'],\n",
       "   'original_language': 'ja',\n",
       "   'original_name': 'ワンピース',\n",
       "   'overview': 'Years ago, the fearsome Pirate King, Gol D. Roger was executed leaving a huge pile of treasure and the famous \"One Piece\" behind. Whoever claims the \"One Piece\" will be named the new King of the Pirates.\\n\\nMonkey D. Luffy, a boy who consumed a \"Devil Fruit,\" decides to follow in the footsteps of his idol, the pirate Shanks, and find the One Piece. It helps, of course, that his body has the properties of rubber and that he\\'s surrounded by a bevy of skilled fighters and thieves to help him along the way.\\n\\nLuffy will do anything to get the One Piece and become King of the Pirates!',\n",
       "   'popularity': 111.461,\n",
       "   'poster_path': '/fcXdJlbSdUEeMSJFsXKsznGwwok.jpg',\n",
       "   'vote_average': 8.7,\n",
       "   'vote_count': 3722},\n",
       "  {'backdrop_path': '/2UG177tWHy7xRmMKWJHB7nAUmKd.jpg',\n",
       "   'first_air_date': '2009-04-05',\n",
       "   'genre_ids': [10759, 16, 10765],\n",
       "   'id': 31911,\n",
       "   'name': 'Fullmetal Alchemist: Brotherhood',\n",
       "   'origin_country': ['JP'],\n",
       "   'original_language': 'ja',\n",
       "   'original_name': '鋼の錬金術師 FULLMETAL ALCHEMIST',\n",
       "   'overview': \"Edward and Alphonse Elric's reckless disregard for alchemy's fun\\xaddamental laws ripped half of Ed's limbs from his body and left Al's soul clinging to a cold suit of armor. To restore what was lost, the brothers scour a war-torn land for the Philosopher's Sto\\xadne, a fabled relic which grants the ability to perform alchemy in impossible ways.\\n\\nThe Elrics are not alone in their search; the corrupt State Military is also eager to harness the artifact's power. So too are the strange Homunculi and their shadowy creator. The mythical gem lures exotic alchemists from distant kingdoms, scarring some deeply enough to inspire murder. As the Elrics find their course altered by these enemies and allies, their purpose remains unchanged – and their bond unbreakable.\",\n",
       "   'popularity': 69.113,\n",
       "   'poster_path': '/5ZFUEOULaVml7pQuXxhpR2SmVUw.jpg',\n",
       "   'vote_average': 8.7,\n",
       "   'vote_count': 1624},\n",
       "  {'backdrop_path': '/nTvM4mhqNlHIvUkI1gVnW6XP7GG.jpg',\n",
       "   'first_air_date': '2019-04-06',\n",
       "   'genre_ids': [16, 10759, 10765],\n",
       "   'id': 85937,\n",
       "   'name': 'Demon Slayer: Kimetsu no Yaiba',\n",
       "   'origin_country': ['JP'],\n",
       "   'original_language': 'ja',\n",
       "   'original_name': '鬼滅の刃',\n",
       "   'overview': 'It is the Taisho Period in Japan. Tanjiro, a kindhearted boy who sells charcoal for a living, finds his family slaughtered by a demon. To make matters worse, his younger sister Nezuko, the sole survivor, has been transformed into a demon herself. Though devastated by this grim reality, Tanjiro resolves to become a “demon slayer” so that he can turn his sister back into a human, and kill the demon that massacred his family.',\n",
       "   'popularity': 286.611,\n",
       "   'poster_path': '/xUfRZu2mi8jH6SzQEJGP6tjBuYj.jpg',\n",
       "   'vote_average': 8.7,\n",
       "   'vote_count': 5176},\n",
       "  {'backdrop_path': '/70YdbMELM4b8x8VXjlubymb2bQ0.jpg',\n",
       "   'first_air_date': '2017-03-19',\n",
       "   'genre_ids': [18, 10751],\n",
       "   'id': 70785,\n",
       "   'name': 'Anne with an E',\n",
       "   'origin_country': ['CA'],\n",
       "   'original_language': 'en',\n",
       "   'original_name': 'Anne with an E',\n",
       "   'overview': 'A coming-of-age story about an outsider who, against all odds and numerous challenges, fights for love and acceptance and for her place in the world. The series centers on a young orphaned girl in the late 1890’s, who, after an abusive childhood spent in orphanages and the homes of strangers, is mistakenly sent to live with an elderly woman and her aging brother. Over time, 13-year-old Anne will transform their lives and eventually the small town in which they live with her unique spirit, fierce intellect and brilliant imagination.',\n",
       "   'popularity': 52.074,\n",
       "   'poster_path': '/6P6tXhjT5tK3qOXzxF9OMLlG7iz.jpg',\n",
       "   'vote_average': 8.7,\n",
       "   'vote_count': 4253},\n",
       "  {'backdrop_path': '/smSbK5cd8T9XHcxEUcems23BDEF.jpg',\n",
       "   'first_air_date': '2016-12-02',\n",
       "   'genre_ids': [18, 10765, 35],\n",
       "   'id': 67915,\n",
       "   'name': 'Goblin',\n",
       "   'origin_country': ['KR'],\n",
       "   'original_language': 'ko',\n",
       "   'original_name': '쓸쓸하고 찬란하神-도깨비',\n",
       "   'overview': 'In his quest for a bride to break his immortal curse, a 939-year-old guardian of souls meets a grim reaper and a sprightly student with a tragic past.',\n",
       "   'popularity': 60.857,\n",
       "   'poster_path': '/t7aUi8jbsIUSCNqA1akAbKjBWjU.jpg',\n",
       "   'vote_average': 8.7,\n",
       "   'vote_count': 2466},\n",
       "  {'backdrop_path': '/3ILMlmC30QUnYkY3XEBOyJ82Dqu.jpg',\n",
       "   'first_air_date': '2016-04-03',\n",
       "   'genre_ids': [10759, 16],\n",
       "   'id': 65930,\n",
       "   'name': 'My Hero Academia',\n",
       "   'origin_country': ['JP'],\n",
       "   'original_language': 'ja',\n",
       "   'original_name': '僕のヒーローアカデミア',\n",
       "   'overview': \"In a world where eighty percent of the population has some kind of super-powered Quirk, Izuku was unlucky enough to be born completely normal. But that won't stop him from enrolling in a prestigious hero academy. Now, he'll get his first taste of brutal rivalry from other schools as he braves the cutthroat, no-holds-barred provisional license exam.\",\n",
       "   'popularity': 41.11,\n",
       "   'poster_path': '/ivOLM47yJt90P19RH1NvJrAJz9F.jpg',\n",
       "   'vote_average': 8.7,\n",
       "   'vote_count': 4318},\n",
       "  {'backdrop_path': '/6UH52Fmau8RPsMAbQbjwN3wJSCj.jpg',\n",
       "   'first_air_date': '2021-03-25',\n",
       "   'genre_ids': [16, 10765, 10759, 18],\n",
       "   'id': 95557,\n",
       "   'name': 'Invincible',\n",
       "   'origin_country': ['US'],\n",
       "   'original_language': 'en',\n",
       "   'original_name': 'Invincible',\n",
       "   'overview': 'Mark Grayson is a normal teenager except for the fact that his father is the most powerful superhero on the planet. Shortly after his seventeenth birthday, Mark begins to develop powers of his own and enters into his father’s tutelage.',\n",
       "   'popularity': 41.728,\n",
       "   'poster_path': '/yDWJYRAwMNKbIYT8ZB33qy84uzO.jpg',\n",
       "   'vote_average': 8.7,\n",
       "   'vote_count': 3473},\n",
       "  {'backdrop_path': '/5DUMPBSnHOZsbBv81GFXZXvDpo6.jpg',\n",
       "   'first_air_date': '2022-10-12',\n",
       "   'genre_ids': [16, 10759, 10765, 35],\n",
       "   'id': 114410,\n",
       "   'name': 'Chainsaw Man',\n",
       "   'origin_country': ['JP'],\n",
       "   'original_language': 'ja',\n",
       "   'original_name': 'チェンソーマン',\n",
       "   'overview': 'Denji has a simple dream—to live a happy and peaceful life, spending time with a girl he likes. This is a far cry from reality, however, as Denji is forced by the yakuza into killing devils in order to pay off his crushing debts. Using his pet devil Pochita as a weapon, he is ready to do anything for a bit of cash.',\n",
       "   'popularity': 132.149,\n",
       "   'poster_path': '/npdB6eFzizki0WaZ1OvKcJrWe97.jpg',\n",
       "   'vote_average': 8.7,\n",
       "   'vote_count': 1042},\n",
       "  {'backdrop_path': '/kU98MbVVgi72wzceyrEbClZmMFe.jpg',\n",
       "   'first_air_date': '2005-02-21',\n",
       "   'genre_ids': [16, 10759, 10765],\n",
       "   'id': 246,\n",
       "   'name': 'Avatar: The Last Airbender',\n",
       "   'origin_country': ['US'],\n",
       "   'original_language': 'en',\n",
       "   'original_name': 'Avatar: The Last Airbender',\n",
       "   'overview': 'In a war-torn world of elemental magic, a young boy reawakens to undertake a dangerous mystic quest to fulfill his destiny as the Avatar, and bring peace to the world.',\n",
       "   'popularity': 45.381,\n",
       "   'poster_path': '/cHFZA8Tlv03nKTGXhLOYOLtqoSm.jpg',\n",
       "   'vote_average': 8.7,\n",
       "   'vote_count': 3271},\n",
       "  {'backdrop_path': '/cHyY5z4txdVyGtYMvBJhCqCcJso.jpg',\n",
       "   'first_air_date': '2020-01-10',\n",
       "   'genre_ids': [16, 10765, 18, 10751, 10759, 35],\n",
       "   'id': 92685,\n",
       "   'name': 'The Owl House',\n",
       "   'origin_country': ['US'],\n",
       "   'original_language': 'en',\n",
       "   'original_name': 'The Owl House',\n",
       "   'overview': \"An animated fantasy-comedy series that follows Luz, a self-assured teenage girl who accidentally stumbles upon a portal to a magical world where she befriends a rebellious witch, Eda, and an adorably tiny warrior, King. Despite not having magical abilities, Luz pursues her dream of becoming a witch by serving as Eda's apprentice at the Owl House and ultimately finds a new family in an unlikely setting.\",\n",
       "   'popularity': 80.614,\n",
       "   'poster_path': '/zhdy3PcNVE15wj1wrxn45ARZBnx.jpg',\n",
       "   'vote_average': 8.7,\n",
       "   'vote_count': 1297},\n",
       "  {'backdrop_path': '/2vbE9ajftJ7dkqUAyxDS0WFILx8.jpg',\n",
       "   'first_air_date': '2010-09-06',\n",
       "   'genre_ids': [16, 35],\n",
       "   'id': 31132,\n",
       "   'name': 'Regular Show',\n",
       "   'origin_country': ['US'],\n",
       "   'original_language': 'en',\n",
       "   'original_name': 'Regular Show',\n",
       "   'overview': 'Two bored groundskeepers, Mordecai (a six-foot-tall blue jay) and Rigby (a hyperactive raccoon) are best friends who spend their days trying to entertain themselves by any means necessary, much to the displeasure of their boss. Their everyday pursuits often lead to things spiraling out of control and into the surreal.',\n",
       "   'popularity': 215.938,\n",
       "   'poster_path': '/mS5SLxMYcKfUxA0utBSR5MOAWWr.jpg',\n",
       "   'vote_average': 8.7,\n",
       "   'vote_count': 1688},\n",
       "  {'backdrop_path': '/dJ8yrSokdTMnhKJw06MllSfCegb.jpg',\n",
       "   'first_air_date': '2019-01-12',\n",
       "   'genre_ids': [16, 35, 18],\n",
       "   'id': 83121,\n",
       "   'name': 'Kaguya-sama: Love Is War',\n",
       "   'origin_country': ['JP'],\n",
       "   'original_language': 'ja',\n",
       "   'original_name': 'かぐや様は告らせたい～天才たちの恋愛頭脳戦～',\n",
       "   'overview': \"Considered a genius due to having the highest grades in the country, Miyuki Shirogane leads the prestigious Shuchiin Academy's student council as its president, working alongside the beautiful and wealthy vice president Kaguya Shinomiya. The two are often regarded as the perfect couple by students despite them not being in any sort of romantic relationship.\",\n",
       "   'popularity': 70.346,\n",
       "   'poster_path': '/5khbC6AuNgnvnoDbjIMKCOhEtIc.jpg',\n",
       "   'vote_average': 8.7,\n",
       "   'vote_count': 612},\n",
       "  {'backdrop_path': '/nBZyWSGAUEzCH7Mna0zUNTpBQlQ.jpg',\n",
       "   'first_air_date': '2022-06-18',\n",
       "   'genre_ids': [18, 10759, 9648, 10765],\n",
       "   'id': 135157,\n",
       "   'name': 'Alchemy of Souls',\n",
       "   'origin_country': ['KR'],\n",
       "   'original_language': 'ko',\n",
       "   'original_name': '환혼',\n",
       "   'overview': \"A powerful sorceress in a blind woman's body encounters a man from a prestigious family, who wants her help to change his destiny.\",\n",
       "   'popularity': 85.648,\n",
       "   'poster_path': '/q2IiPRSXPOZ6qVRj36WRAYEQyHs.jpg',\n",
       "   'vote_average': 8.7,\n",
       "   'vote_count': 346},\n",
       "  {'backdrop_path': '/nGfjgUlES2WuYrHXNNF4fbGe2Eq.jpg',\n",
       "   'first_air_date': '2019-10-08',\n",
       "   'genre_ids': [10759, 16, 18],\n",
       "   'id': 89456,\n",
       "   'name': 'Primal',\n",
       "   'origin_country': ['US'],\n",
       "   'original_language': 'en',\n",
       "   'original_name': 'Primal',\n",
       "   'overview': 'A caveman forms a bond with a dinosaur as they struggle to survive in a hostile world.',\n",
       "   'popularity': 44.733,\n",
       "   'poster_path': '/jflPzxYbM4MxxCppo2AbvSbTOLm.jpg',\n",
       "   'vote_average': 8.7,\n",
       "   'vote_count': 1180},\n",
       "  {'backdrop_path': '/1ZHua1p2ZD26EQvC8Qlbp40oXV5.jpg',\n",
       "   'first_air_date': '2022-04-14',\n",
       "   'genre_ids': [10764],\n",
       "   'id': 154521,\n",
       "   'name': 'The Kardashians',\n",
       "   'origin_country': ['US'],\n",
       "   'original_language': 'en',\n",
       "   'original_name': 'The Kardashians',\n",
       "   'overview': 'The family you know and love is here with a brand new series, giving an all-access pass into their lives. Kris, Kourtney, Kim, Khloé, Kendall, and Kylie bring the cameras back to reveal the truth behind the headlines. From the intense pressures of running billion-dollar businesses to the hilarious joys of playtime and school drop-offs, this series brings viewers into the fold with a rivetingly honest story of love & life in the spotlight.',\n",
       "   'popularity': 40.468,\n",
       "   'poster_path': '/6mGCYwh5OMpLgTqc9Sh2RnPB7Ic.jpg',\n",
       "   'vote_average': 8.7,\n",
       "   'vote_count': 1893},\n",
       "  {'backdrop_path': '/tKh3pc5MEjCIGV7hSJX76qi8aGA.jpg',\n",
       "   'first_air_date': '2018-01-13',\n",
       "   'genre_ids': [16],\n",
       "   'id': 76121,\n",
       "   'name': 'DARLING in the FRANXX',\n",
       "   'origin_country': ['JP'],\n",
       "   'original_language': 'ja',\n",
       "   'original_name': 'ダーリン・イン・ザ・フランキス',\n",
       "   'overview': 'The story is set in the distant future. The land is ruined, and humanity establishes the mobile fort city Plantation. Pilots produced inside Plantation live in Mistilteinn, also know as the \"birdcage.\" Children live there knowing nothing of the outside world or the freedom of the sky. Their lives consist of battling to carry out missions. Their enemies are mysterious giant lifeforms known as Kyouryuu, and the children pilot robots called Franxx to face off against them. For the children, riding the Franxx proves their existence.\\n\\nA boy named Hiro is called Code:016, and he was once known as a prodigy. However, he has fallen behind, and his existence seems unnecessary. Not piloting a Franxx is the same as ceasing to exist. One day, a mysterious girl known as \"Zero Two\" appears before him. Two horns grow out of her head.',\n",
       "   'popularity': 56.933,\n",
       "   'poster_path': '/rR8HgnD9tqFaSiJ69FpruHo9Gm9.jpg',\n",
       "   'vote_average': 8.7,\n",
       "   'vote_count': 1672}],\n",
       " 'total_pages': 87,\n",
       " 'total_results': 1721}"
      ]
     },
     "execution_count": 17,
     "metadata": {},
     "output_type": "execute_result"
    }
   ],
   "source": [
    "response.json()"
   ]
  },
  {
   "cell_type": "code",
   "execution_count": 20,
   "id": "fbafeb2c",
   "metadata": {},
   "outputs": [
    {
     "data": {
      "text/plain": [
       "87"
      ]
     },
     "execution_count": 20,
     "metadata": {},
     "output_type": "execute_result"
    }
   ],
   "source": [
    "total_page = response.json()['total_pages']\n",
    "total_page"
   ]
  },
  {
   "cell_type": "code",
   "execution_count": 18,
   "id": "5c568df2",
   "metadata": {},
   "outputs": [],
   "source": [
    "df = pd.DataFrame(response.json()['results'])[['id','first_air_date','name','overview','popularity','vote_average','vote_count']]"
   ]
  },
  {
   "cell_type": "code",
   "execution_count": 13,
   "id": "ee362cd1",
   "metadata": {},
   "outputs": [
    {
     "data": {
      "text/html": [
       "<div>\n",
       "<style scoped>\n",
       "    .dataframe tbody tr th:only-of-type {\n",
       "        vertical-align: middle;\n",
       "    }\n",
       "\n",
       "    .dataframe tbody tr th {\n",
       "        vertical-align: top;\n",
       "    }\n",
       "\n",
       "    .dataframe thead th {\n",
       "        text-align: right;\n",
       "    }\n",
       "</style>\n",
       "<table border=\"1\" class=\"dataframe\">\n",
       "  <thead>\n",
       "    <tr style=\"text-align: right;\">\n",
       "      <th></th>\n",
       "      <th>id</th>\n",
       "      <th>first_air_date</th>\n",
       "      <th>name</th>\n",
       "      <th>overview</th>\n",
       "      <th>popularity</th>\n",
       "      <th>vote_average</th>\n",
       "      <th>vote_count</th>\n",
       "    </tr>\n",
       "  </thead>\n",
       "  <tbody>\n",
       "    <tr>\n",
       "      <th>0</th>\n",
       "      <td>1396</td>\n",
       "      <td>2008-01-20</td>\n",
       "      <td>Breaking Bad</td>\n",
       "      <td>When Walter White, a New Mexico chemistry teac...</td>\n",
       "      <td>230.307</td>\n",
       "      <td>8.9</td>\n",
       "      <td>11663</td>\n",
       "    </tr>\n",
       "    <tr>\n",
       "      <th>1</th>\n",
       "      <td>94605</td>\n",
       "      <td>2021-11-06</td>\n",
       "      <td>Arcane</td>\n",
       "      <td>Amid the stark discord of twin cities Piltover...</td>\n",
       "      <td>62.227</td>\n",
       "      <td>8.8</td>\n",
       "      <td>3047</td>\n",
       "    </tr>\n",
       "    <tr>\n",
       "      <th>2</th>\n",
       "      <td>100088</td>\n",
       "      <td>2023-01-15</td>\n",
       "      <td>The Last of Us</td>\n",
       "      <td>Twenty years after modern civilization has bee...</td>\n",
       "      <td>477.713</td>\n",
       "      <td>8.7</td>\n",
       "      <td>3442</td>\n",
       "    </tr>\n",
       "    <tr>\n",
       "      <th>3</th>\n",
       "      <td>60625</td>\n",
       "      <td>2013-12-02</td>\n",
       "      <td>Rick and Morty</td>\n",
       "      <td>Rick is a mentally-unbalanced but scientifical...</td>\n",
       "      <td>203.475</td>\n",
       "      <td>8.7</td>\n",
       "      <td>8193</td>\n",
       "    </tr>\n",
       "    <tr>\n",
       "      <th>4</th>\n",
       "      <td>37854</td>\n",
       "      <td>1999-10-20</td>\n",
       "      <td>One Piece</td>\n",
       "      <td>Years ago, the fearsome Pirate King, Gol D. Ro...</td>\n",
       "      <td>111.461</td>\n",
       "      <td>8.7</td>\n",
       "      <td>3722</td>\n",
       "    </tr>\n",
       "  </tbody>\n",
       "</table>\n",
       "</div>"
      ],
      "text/plain": [
       "       id first_air_date            name  \\\n",
       "0    1396     2008-01-20    Breaking Bad   \n",
       "1   94605     2021-11-06          Arcane   \n",
       "2  100088     2023-01-15  The Last of Us   \n",
       "3   60625     2013-12-02  Rick and Morty   \n",
       "4   37854     1999-10-20       One Piece   \n",
       "\n",
       "                                            overview  popularity  \\\n",
       "0  When Walter White, a New Mexico chemistry teac...     230.307   \n",
       "1  Amid the stark discord of twin cities Piltover...      62.227   \n",
       "2  Twenty years after modern civilization has bee...     477.713   \n",
       "3  Rick is a mentally-unbalanced but scientifical...     203.475   \n",
       "4  Years ago, the fearsome Pirate King, Gol D. Ro...     111.461   \n",
       "\n",
       "   vote_average  vote_count  \n",
       "0           8.9       11663  \n",
       "1           8.8        3047  \n",
       "2           8.7        3442  \n",
       "3           8.7        8193  \n",
       "4           8.7        3722  "
      ]
     },
     "execution_count": 13,
     "metadata": {},
     "output_type": "execute_result"
    }
   ],
   "source": [
    "df.head()"
   ]
  },
  {
   "cell_type": "code",
   "execution_count": 47,
   "id": "2a749ff0",
   "metadata": {},
   "outputs": [],
   "source": [
    "# Empty Dataset\n",
    "data = pd.DataFrame()"
   ]
  },
  {
   "cell_type": "code",
   "execution_count": 48,
   "id": "9cd3e2fa",
   "metadata": {},
   "outputs": [
    {
     "data": {
      "text/html": [
       "<div>\n",
       "<style scoped>\n",
       "    .dataframe tbody tr th:only-of-type {\n",
       "        vertical-align: middle;\n",
       "    }\n",
       "\n",
       "    .dataframe tbody tr th {\n",
       "        vertical-align: top;\n",
       "    }\n",
       "\n",
       "    .dataframe thead th {\n",
       "        text-align: right;\n",
       "    }\n",
       "</style>\n",
       "<table border=\"1\" class=\"dataframe\">\n",
       "  <thead>\n",
       "    <tr style=\"text-align: right;\">\n",
       "      <th></th>\n",
       "    </tr>\n",
       "  </thead>\n",
       "  <tbody>\n",
       "  </tbody>\n",
       "</table>\n",
       "</div>"
      ],
      "text/plain": [
       "Empty DataFrame\n",
       "Columns: []\n",
       "Index: []"
      ]
     },
     "execution_count": 48,
     "metadata": {},
     "output_type": "execute_result"
    }
   ],
   "source": [
    "data"
   ]
  },
  {
   "cell_type": "code",
   "execution_count": 45,
   "id": "ffeff2bd",
   "metadata": {},
   "outputs": [
    {
     "data": {
      "text/html": [
       "<div>\n",
       "<style scoped>\n",
       "    .dataframe tbody tr th:only-of-type {\n",
       "        vertical-align: middle;\n",
       "    }\n",
       "\n",
       "    .dataframe tbody tr th {\n",
       "        vertical-align: top;\n",
       "    }\n",
       "\n",
       "    .dataframe thead th {\n",
       "        text-align: right;\n",
       "    }\n",
       "</style>\n",
       "<table border=\"1\" class=\"dataframe\">\n",
       "  <thead>\n",
       "    <tr style=\"text-align: right;\">\n",
       "      <th></th>\n",
       "      <th>id</th>\n",
       "      <th>first_air_date</th>\n",
       "      <th>name</th>\n",
       "      <th>overview</th>\n",
       "      <th>popularity</th>\n",
       "      <th>vote_average</th>\n",
       "      <th>vote_count</th>\n",
       "    </tr>\n",
       "  </thead>\n",
       "  <tbody>\n",
       "    <tr>\n",
       "      <th>0</th>\n",
       "      <td>202250</td>\n",
       "      <td>2023-01-23</td>\n",
       "      <td>Dirty Linen</td>\n",
       "      <td>To exact vengeance, a young woman infiltrates ...</td>\n",
       "      <td>2749.980</td>\n",
       "      <td>5.0</td>\n",
       "      <td>16</td>\n",
       "    </tr>\n",
       "    <tr>\n",
       "      <th>1</th>\n",
       "      <td>63935</td>\n",
       "      <td>2011-02-12</td>\n",
       "      <td>Les Mystères de l'amour</td>\n",
       "      <td></td>\n",
       "      <td>2632.683</td>\n",
       "      <td>6.5</td>\n",
       "      <td>4</td>\n",
       "    </tr>\n",
       "    <tr>\n",
       "      <th>2</th>\n",
       "      <td>36361</td>\n",
       "      <td>2005-09-05</td>\n",
       "      <td>Ulice</td>\n",
       "      <td>Ulice is a Czech soap opera produced and broad...</td>\n",
       "      <td>2558.184</td>\n",
       "      <td>2.9</td>\n",
       "      <td>11</td>\n",
       "    </tr>\n",
       "    <tr>\n",
       "      <th>3</th>\n",
       "      <td>215103</td>\n",
       "      <td>2023-01-04</td>\n",
       "      <td>Teri Meri Doriyaan</td>\n",
       "      <td>It’s hate at first sight for Sahiba and Angad!...</td>\n",
       "      <td>2197.065</td>\n",
       "      <td>4.9</td>\n",
       "      <td>7</td>\n",
       "    </tr>\n",
       "    <tr>\n",
       "      <th>4</th>\n",
       "      <td>213713</td>\n",
       "      <td>2022-11-02</td>\n",
       "      <td>Faltu</td>\n",
       "      <td>What's in a name? Amidst the arid landscape of...</td>\n",
       "      <td>2178.694</td>\n",
       "      <td>4.5</td>\n",
       "      <td>22</td>\n",
       "    </tr>\n",
       "    <tr>\n",
       "      <th>5</th>\n",
       "      <td>101463</td>\n",
       "      <td>2011-01-10</td>\n",
       "      <td>Al rojo vivo</td>\n",
       "      <td></td>\n",
       "      <td>2128.532</td>\n",
       "      <td>1.8</td>\n",
       "      <td>7</td>\n",
       "    </tr>\n",
       "    <tr>\n",
       "      <th>6</th>\n",
       "      <td>215315</td>\n",
       "      <td>2022-11-28</td>\n",
       "      <td>Rabb Se Hai Dua</td>\n",
       "      <td>Dua and her husband are a perfect married coup...</td>\n",
       "      <td>2089.495</td>\n",
       "      <td>6.0</td>\n",
       "      <td>2</td>\n",
       "    </tr>\n",
       "    <tr>\n",
       "      <th>7</th>\n",
       "      <td>215803</td>\n",
       "      <td>2023-02-13</td>\n",
       "      <td>Batang Quiapo</td>\n",
       "      <td>A young man rises to be one of the biggest out...</td>\n",
       "      <td>2018.799</td>\n",
       "      <td>5.6</td>\n",
       "      <td>13</td>\n",
       "    </tr>\n",
       "    <tr>\n",
       "      <th>8</th>\n",
       "      <td>216390</td>\n",
       "      <td>2023-03-14</td>\n",
       "      <td>Woman in a Veil</td>\n",
       "      <td>Jung Gyul Wool loses her vision and ability to...</td>\n",
       "      <td>1987.363</td>\n",
       "      <td>5.2</td>\n",
       "      <td>5</td>\n",
       "    </tr>\n",
       "    <tr>\n",
       "      <th>9</th>\n",
       "      <td>217510</td>\n",
       "      <td>2023-03-13</td>\n",
       "      <td>Queridos Papás</td>\n",
       "      <td></td>\n",
       "      <td>1915.494</td>\n",
       "      <td>6.0</td>\n",
       "      <td>2</td>\n",
       "    </tr>\n",
       "    <tr>\n",
       "      <th>10</th>\n",
       "      <td>218145</td>\n",
       "      <td>2023-01-09</td>\n",
       "      <td>Mama na prenájom</td>\n",
       "      <td></td>\n",
       "      <td>1889.290</td>\n",
       "      <td>9.0</td>\n",
       "      <td>3</td>\n",
       "    </tr>\n",
       "    <tr>\n",
       "      <th>11</th>\n",
       "      <td>221249</td>\n",
       "      <td>2023-02-26</td>\n",
       "      <td>O Triângulo</td>\n",
       "      <td>A series of physical, intellectual, emotional ...</td>\n",
       "      <td>1855.771</td>\n",
       "      <td>1.3</td>\n",
       "      <td>2</td>\n",
       "    </tr>\n",
       "    <tr>\n",
       "      <th>12</th>\n",
       "      <td>221949</td>\n",
       "      <td>2023-03-09</td>\n",
       "      <td>Chashni</td>\n",
       "      <td>An untoward incident mars the loving relations...</td>\n",
       "      <td>1831.498</td>\n",
       "      <td>6.5</td>\n",
       "      <td>2</td>\n",
       "    </tr>\n",
       "    <tr>\n",
       "      <th>13</th>\n",
       "      <td>114294</td>\n",
       "      <td>2021-10-31</td>\n",
       "      <td>Judy Justice</td>\n",
       "      <td>The Honorable Judy Sheindlin, retired Judge of...</td>\n",
       "      <td>1668.229</td>\n",
       "      <td>4.2</td>\n",
       "      <td>10</td>\n",
       "    </tr>\n",
       "    <tr>\n",
       "      <th>14</th>\n",
       "      <td>209117</td>\n",
       "      <td>2023-01-16</td>\n",
       "      <td>Never Give Up</td>\n",
       "      <td>Sol is a hardworking woman who has the chance ...</td>\n",
       "      <td>1603.340</td>\n",
       "      <td>8.0</td>\n",
       "      <td>8</td>\n",
       "    </tr>\n",
       "    <tr>\n",
       "      <th>15</th>\n",
       "      <td>130542</td>\n",
       "      <td>2021-08-03</td>\n",
       "      <td>Bhagya Lakshmi</td>\n",
       "      <td>Hailing from a middle-class family, Lakshmi’s ...</td>\n",
       "      <td>1528.664</td>\n",
       "      <td>4.9</td>\n",
       "      <td>37</td>\n",
       "    </tr>\n",
       "    <tr>\n",
       "      <th>16</th>\n",
       "      <td>210506</td>\n",
       "      <td>2022-09-19</td>\n",
       "      <td>Sangue Oculto</td>\n",
       "      <td></td>\n",
       "      <td>1500.638</td>\n",
       "      <td>5.8</td>\n",
       "      <td>8</td>\n",
       "    </tr>\n",
       "    <tr>\n",
       "      <th>17</th>\n",
       "      <td>211128</td>\n",
       "      <td>2022-11-14</td>\n",
       "      <td>The Iron Heart</td>\n",
       "      <td>An undercover agent goes on a dangerous missio...</td>\n",
       "      <td>1475.197</td>\n",
       "      <td>7.5</td>\n",
       "      <td>4</td>\n",
       "    </tr>\n",
       "    <tr>\n",
       "      <th>18</th>\n",
       "      <td>215902</td>\n",
       "      <td>2022-12-05</td>\n",
       "      <td>Katha Ankahee</td>\n",
       "      <td>Katha, a single parent, is in need of funds fo...</td>\n",
       "      <td>1402.673</td>\n",
       "      <td>10.0</td>\n",
       "      <td>1</td>\n",
       "    </tr>\n",
       "    <tr>\n",
       "      <th>19</th>\n",
       "      <td>215426</td>\n",
       "      <td>2022-11-28</td>\n",
       "      <td>Pyaar Ke Saat Vachan - Dharam Patni</td>\n",
       "      <td>What will happen when Ravi Randhawa, a busines...</td>\n",
       "      <td>1368.613</td>\n",
       "      <td>6.0</td>\n",
       "      <td>1</td>\n",
       "    </tr>\n",
       "  </tbody>\n",
       "</table>\n",
       "</div>"
      ],
      "text/plain": [
       "        id first_air_date                                 name  \\\n",
       "0   202250     2023-01-23                          Dirty Linen   \n",
       "1    63935     2011-02-12              Les Mystères de l'amour   \n",
       "2    36361     2005-09-05                                Ulice   \n",
       "3   215103     2023-01-04                   Teri Meri Doriyaan   \n",
       "4   213713     2022-11-02                                Faltu   \n",
       "5   101463     2011-01-10                         Al rojo vivo   \n",
       "6   215315     2022-11-28                      Rabb Se Hai Dua   \n",
       "7   215803     2023-02-13                        Batang Quiapo   \n",
       "8   216390     2023-03-14                      Woman in a Veil   \n",
       "9   217510     2023-03-13                       Queridos Papás   \n",
       "10  218145     2023-01-09                     Mama na prenájom   \n",
       "11  221249     2023-02-26                          O Triângulo   \n",
       "12  221949     2023-03-09                              Chashni   \n",
       "13  114294     2021-10-31                         Judy Justice   \n",
       "14  209117     2023-01-16                        Never Give Up   \n",
       "15  130542     2021-08-03                       Bhagya Lakshmi   \n",
       "16  210506     2022-09-19                        Sangue Oculto   \n",
       "17  211128     2022-11-14                       The Iron Heart   \n",
       "18  215902     2022-12-05                        Katha Ankahee   \n",
       "19  215426     2022-11-28  Pyaar Ke Saat Vachan - Dharam Patni   \n",
       "\n",
       "                                             overview  popularity  \\\n",
       "0   To exact vengeance, a young woman infiltrates ...    2749.980   \n",
       "1                                                        2632.683   \n",
       "2   Ulice is a Czech soap opera produced and broad...    2558.184   \n",
       "3   It’s hate at first sight for Sahiba and Angad!...    2197.065   \n",
       "4   What's in a name? Amidst the arid landscape of...    2178.694   \n",
       "5                                                        2128.532   \n",
       "6   Dua and her husband are a perfect married coup...    2089.495   \n",
       "7   A young man rises to be one of the biggest out...    2018.799   \n",
       "8   Jung Gyul Wool loses her vision and ability to...    1987.363   \n",
       "9                                                        1915.494   \n",
       "10                                                       1889.290   \n",
       "11  A series of physical, intellectual, emotional ...    1855.771   \n",
       "12  An untoward incident mars the loving relations...    1831.498   \n",
       "13  The Honorable Judy Sheindlin, retired Judge of...    1668.229   \n",
       "14  Sol is a hardworking woman who has the chance ...    1603.340   \n",
       "15  Hailing from a middle-class family, Lakshmi’s ...    1528.664   \n",
       "16                                                       1500.638   \n",
       "17  An undercover agent goes on a dangerous missio...    1475.197   \n",
       "18  Katha, a single parent, is in need of funds fo...    1402.673   \n",
       "19  What will happen when Ravi Randhawa, a busines...    1368.613   \n",
       "\n",
       "    vote_average  vote_count  \n",
       "0            5.0          16  \n",
       "1            6.5           4  \n",
       "2            2.9          11  \n",
       "3            4.9           7  \n",
       "4            4.5          22  \n",
       "5            1.8           7  \n",
       "6            6.0           2  \n",
       "7            5.6          13  \n",
       "8            5.2           5  \n",
       "9            6.0           2  \n",
       "10           9.0           3  \n",
       "11           1.3           2  \n",
       "12           6.5           2  \n",
       "13           4.2          10  \n",
       "14           8.0           8  \n",
       "15           4.9          37  \n",
       "16           5.8           8  \n",
       "17           7.5           4  \n",
       "18          10.0           1  \n",
       "19           6.0           1  "
      ]
     },
     "execution_count": 45,
     "metadata": {},
     "output_type": "execute_result"
    }
   ],
   "source": [
    "# A little change in the url to gets lots and lots of data\n",
    "response = requests.get('https://api.themoviedb.org/3/discover/tv?page={}&api_key=db1dacc11b43df2e7f2c0a45b48a341e'.format(1))\n",
    "pd.DataFrame(response.json()['results'])[['id','first_air_date','name','overview','popularity','vote_average','vote_count']]"
   ]
  },
  {
   "cell_type": "code",
   "execution_count": 49,
   "id": "e81ddc9d",
   "metadata": {},
   "outputs": [
    {
     "name": "stdout",
     "output_type": "stream",
     "text": [
      "Page - 1 Added\n"
     ]
    },
    {
     "name": "stderr",
     "output_type": "stream",
     "text": [
      "/var/folders/zr/1v6p3jt16mb2fqrhvvc6xhdc0000gn/T/ipykernel_58758/2138062201.py:5: FutureWarning: The frame.append method is deprecated and will be removed from pandas in a future version. Use pandas.concat instead.\n",
      "  data = data.append(temp_data,ignore_index=True) #ignore_index because all the data have the same index for different pages\n"
     ]
    },
    {
     "name": "stdout",
     "output_type": "stream",
     "text": [
      "Page - 2 Added\n"
     ]
    },
    {
     "name": "stderr",
     "output_type": "stream",
     "text": [
      "/var/folders/zr/1v6p3jt16mb2fqrhvvc6xhdc0000gn/T/ipykernel_58758/2138062201.py:5: FutureWarning: The frame.append method is deprecated and will be removed from pandas in a future version. Use pandas.concat instead.\n",
      "  data = data.append(temp_data,ignore_index=True) #ignore_index because all the data have the same index for different pages\n"
     ]
    },
    {
     "name": "stdout",
     "output_type": "stream",
     "text": [
      "Page - 3 Added\n"
     ]
    },
    {
     "name": "stderr",
     "output_type": "stream",
     "text": [
      "/var/folders/zr/1v6p3jt16mb2fqrhvvc6xhdc0000gn/T/ipykernel_58758/2138062201.py:5: FutureWarning: The frame.append method is deprecated and will be removed from pandas in a future version. Use pandas.concat instead.\n",
      "  data = data.append(temp_data,ignore_index=True) #ignore_index because all the data have the same index for different pages\n"
     ]
    },
    {
     "name": "stdout",
     "output_type": "stream",
     "text": [
      "Page - 4 Added\n"
     ]
    },
    {
     "name": "stderr",
     "output_type": "stream",
     "text": [
      "/var/folders/zr/1v6p3jt16mb2fqrhvvc6xhdc0000gn/T/ipykernel_58758/2138062201.py:5: FutureWarning: The frame.append method is deprecated and will be removed from pandas in a future version. Use pandas.concat instead.\n",
      "  data = data.append(temp_data,ignore_index=True) #ignore_index because all the data have the same index for different pages\n"
     ]
    },
    {
     "name": "stdout",
     "output_type": "stream",
     "text": [
      "Page - 5 Added\n"
     ]
    },
    {
     "name": "stderr",
     "output_type": "stream",
     "text": [
      "/var/folders/zr/1v6p3jt16mb2fqrhvvc6xhdc0000gn/T/ipykernel_58758/2138062201.py:5: FutureWarning: The frame.append method is deprecated and will be removed from pandas in a future version. Use pandas.concat instead.\n",
      "  data = data.append(temp_data,ignore_index=True) #ignore_index because all the data have the same index for different pages\n"
     ]
    },
    {
     "name": "stdout",
     "output_type": "stream",
     "text": [
      "Page - 6 Added\n"
     ]
    },
    {
     "name": "stderr",
     "output_type": "stream",
     "text": [
      "/var/folders/zr/1v6p3jt16mb2fqrhvvc6xhdc0000gn/T/ipykernel_58758/2138062201.py:5: FutureWarning: The frame.append method is deprecated and will be removed from pandas in a future version. Use pandas.concat instead.\n",
      "  data = data.append(temp_data,ignore_index=True) #ignore_index because all the data have the same index for different pages\n"
     ]
    },
    {
     "name": "stdout",
     "output_type": "stream",
     "text": [
      "Page - 7 Added\n"
     ]
    },
    {
     "name": "stderr",
     "output_type": "stream",
     "text": [
      "/var/folders/zr/1v6p3jt16mb2fqrhvvc6xhdc0000gn/T/ipykernel_58758/2138062201.py:5: FutureWarning: The frame.append method is deprecated and will be removed from pandas in a future version. Use pandas.concat instead.\n",
      "  data = data.append(temp_data,ignore_index=True) #ignore_index because all the data have the same index for different pages\n"
     ]
    },
    {
     "name": "stdout",
     "output_type": "stream",
     "text": [
      "Page - 8 Added\n"
     ]
    },
    {
     "name": "stderr",
     "output_type": "stream",
     "text": [
      "/var/folders/zr/1v6p3jt16mb2fqrhvvc6xhdc0000gn/T/ipykernel_58758/2138062201.py:5: FutureWarning: The frame.append method is deprecated and will be removed from pandas in a future version. Use pandas.concat instead.\n",
      "  data = data.append(temp_data,ignore_index=True) #ignore_index because all the data have the same index for different pages\n"
     ]
    },
    {
     "name": "stdout",
     "output_type": "stream",
     "text": [
      "Page - 9 Added\n"
     ]
    },
    {
     "name": "stderr",
     "output_type": "stream",
     "text": [
      "/var/folders/zr/1v6p3jt16mb2fqrhvvc6xhdc0000gn/T/ipykernel_58758/2138062201.py:5: FutureWarning: The frame.append method is deprecated and will be removed from pandas in a future version. Use pandas.concat instead.\n",
      "  data = data.append(temp_data,ignore_index=True) #ignore_index because all the data have the same index for different pages\n"
     ]
    },
    {
     "name": "stdout",
     "output_type": "stream",
     "text": [
      "Page - 10 Added\n"
     ]
    },
    {
     "name": "stderr",
     "output_type": "stream",
     "text": [
      "/var/folders/zr/1v6p3jt16mb2fqrhvvc6xhdc0000gn/T/ipykernel_58758/2138062201.py:5: FutureWarning: The frame.append method is deprecated and will be removed from pandas in a future version. Use pandas.concat instead.\n",
      "  data = data.append(temp_data,ignore_index=True) #ignore_index because all the data have the same index for different pages\n"
     ]
    },
    {
     "name": "stdout",
     "output_type": "stream",
     "text": [
      "Page - 11 Added\n"
     ]
    },
    {
     "name": "stderr",
     "output_type": "stream",
     "text": [
      "/var/folders/zr/1v6p3jt16mb2fqrhvvc6xhdc0000gn/T/ipykernel_58758/2138062201.py:5: FutureWarning: The frame.append method is deprecated and will be removed from pandas in a future version. Use pandas.concat instead.\n",
      "  data = data.append(temp_data,ignore_index=True) #ignore_index because all the data have the same index for different pages\n"
     ]
    },
    {
     "name": "stdout",
     "output_type": "stream",
     "text": [
      "Page - 12 Added\n"
     ]
    },
    {
     "name": "stderr",
     "output_type": "stream",
     "text": [
      "/var/folders/zr/1v6p3jt16mb2fqrhvvc6xhdc0000gn/T/ipykernel_58758/2138062201.py:5: FutureWarning: The frame.append method is deprecated and will be removed from pandas in a future version. Use pandas.concat instead.\n",
      "  data = data.append(temp_data,ignore_index=True) #ignore_index because all the data have the same index for different pages\n"
     ]
    },
    {
     "name": "stdout",
     "output_type": "stream",
     "text": [
      "Page - 13 Added\n"
     ]
    },
    {
     "name": "stderr",
     "output_type": "stream",
     "text": [
      "/var/folders/zr/1v6p3jt16mb2fqrhvvc6xhdc0000gn/T/ipykernel_58758/2138062201.py:5: FutureWarning: The frame.append method is deprecated and will be removed from pandas in a future version. Use pandas.concat instead.\n",
      "  data = data.append(temp_data,ignore_index=True) #ignore_index because all the data have the same index for different pages\n"
     ]
    },
    {
     "name": "stdout",
     "output_type": "stream",
     "text": [
      "Page - 14 Added\n"
     ]
    },
    {
     "name": "stderr",
     "output_type": "stream",
     "text": [
      "/var/folders/zr/1v6p3jt16mb2fqrhvvc6xhdc0000gn/T/ipykernel_58758/2138062201.py:5: FutureWarning: The frame.append method is deprecated and will be removed from pandas in a future version. Use pandas.concat instead.\n",
      "  data = data.append(temp_data,ignore_index=True) #ignore_index because all the data have the same index for different pages\n"
     ]
    },
    {
     "name": "stdout",
     "output_type": "stream",
     "text": [
      "Page - 15 Added\n"
     ]
    },
    {
     "name": "stderr",
     "output_type": "stream",
     "text": [
      "/var/folders/zr/1v6p3jt16mb2fqrhvvc6xhdc0000gn/T/ipykernel_58758/2138062201.py:5: FutureWarning: The frame.append method is deprecated and will be removed from pandas in a future version. Use pandas.concat instead.\n",
      "  data = data.append(temp_data,ignore_index=True) #ignore_index because all the data have the same index for different pages\n"
     ]
    },
    {
     "name": "stdout",
     "output_type": "stream",
     "text": [
      "Page - 16 Added\n"
     ]
    },
    {
     "name": "stderr",
     "output_type": "stream",
     "text": [
      "/var/folders/zr/1v6p3jt16mb2fqrhvvc6xhdc0000gn/T/ipykernel_58758/2138062201.py:5: FutureWarning: The frame.append method is deprecated and will be removed from pandas in a future version. Use pandas.concat instead.\n",
      "  data = data.append(temp_data,ignore_index=True) #ignore_index because all the data have the same index for different pages\n"
     ]
    },
    {
     "name": "stdout",
     "output_type": "stream",
     "text": [
      "Page - 17 Added\n"
     ]
    },
    {
     "name": "stderr",
     "output_type": "stream",
     "text": [
      "/var/folders/zr/1v6p3jt16mb2fqrhvvc6xhdc0000gn/T/ipykernel_58758/2138062201.py:5: FutureWarning: The frame.append method is deprecated and will be removed from pandas in a future version. Use pandas.concat instead.\n",
      "  data = data.append(temp_data,ignore_index=True) #ignore_index because all the data have the same index for different pages\n"
     ]
    },
    {
     "name": "stdout",
     "output_type": "stream",
     "text": [
      "Page - 18 Added\n"
     ]
    },
    {
     "name": "stderr",
     "output_type": "stream",
     "text": [
      "/var/folders/zr/1v6p3jt16mb2fqrhvvc6xhdc0000gn/T/ipykernel_58758/2138062201.py:5: FutureWarning: The frame.append method is deprecated and will be removed from pandas in a future version. Use pandas.concat instead.\n",
      "  data = data.append(temp_data,ignore_index=True) #ignore_index because all the data have the same index for different pages\n"
     ]
    },
    {
     "name": "stdout",
     "output_type": "stream",
     "text": [
      "Page - 19 Added\n"
     ]
    },
    {
     "name": "stderr",
     "output_type": "stream",
     "text": [
      "/var/folders/zr/1v6p3jt16mb2fqrhvvc6xhdc0000gn/T/ipykernel_58758/2138062201.py:5: FutureWarning: The frame.append method is deprecated and will be removed from pandas in a future version. Use pandas.concat instead.\n",
      "  data = data.append(temp_data,ignore_index=True) #ignore_index because all the data have the same index for different pages\n"
     ]
    },
    {
     "name": "stdout",
     "output_type": "stream",
     "text": [
      "Page - 20 Added\n"
     ]
    },
    {
     "name": "stderr",
     "output_type": "stream",
     "text": [
      "/var/folders/zr/1v6p3jt16mb2fqrhvvc6xhdc0000gn/T/ipykernel_58758/2138062201.py:5: FutureWarning: The frame.append method is deprecated and will be removed from pandas in a future version. Use pandas.concat instead.\n",
      "  data = data.append(temp_data,ignore_index=True) #ignore_index because all the data have the same index for different pages\n"
     ]
    },
    {
     "name": "stdout",
     "output_type": "stream",
     "text": [
      "Page - 21 Added\n"
     ]
    },
    {
     "name": "stderr",
     "output_type": "stream",
     "text": [
      "/var/folders/zr/1v6p3jt16mb2fqrhvvc6xhdc0000gn/T/ipykernel_58758/2138062201.py:5: FutureWarning: The frame.append method is deprecated and will be removed from pandas in a future version. Use pandas.concat instead.\n",
      "  data = data.append(temp_data,ignore_index=True) #ignore_index because all the data have the same index for different pages\n"
     ]
    },
    {
     "name": "stdout",
     "output_type": "stream",
     "text": [
      "Page - 22 Added\n"
     ]
    },
    {
     "name": "stderr",
     "output_type": "stream",
     "text": [
      "/var/folders/zr/1v6p3jt16mb2fqrhvvc6xhdc0000gn/T/ipykernel_58758/2138062201.py:5: FutureWarning: The frame.append method is deprecated and will be removed from pandas in a future version. Use pandas.concat instead.\n",
      "  data = data.append(temp_data,ignore_index=True) #ignore_index because all the data have the same index for different pages\n"
     ]
    },
    {
     "name": "stdout",
     "output_type": "stream",
     "text": [
      "Page - 23 Added\n"
     ]
    },
    {
     "name": "stderr",
     "output_type": "stream",
     "text": [
      "/var/folders/zr/1v6p3jt16mb2fqrhvvc6xhdc0000gn/T/ipykernel_58758/2138062201.py:5: FutureWarning: The frame.append method is deprecated and will be removed from pandas in a future version. Use pandas.concat instead.\n",
      "  data = data.append(temp_data,ignore_index=True) #ignore_index because all the data have the same index for different pages\n"
     ]
    },
    {
     "name": "stdout",
     "output_type": "stream",
     "text": [
      "Page - 24 Added\n"
     ]
    },
    {
     "name": "stderr",
     "output_type": "stream",
     "text": [
      "/var/folders/zr/1v6p3jt16mb2fqrhvvc6xhdc0000gn/T/ipykernel_58758/2138062201.py:5: FutureWarning: The frame.append method is deprecated and will be removed from pandas in a future version. Use pandas.concat instead.\n",
      "  data = data.append(temp_data,ignore_index=True) #ignore_index because all the data have the same index for different pages\n"
     ]
    },
    {
     "name": "stdout",
     "output_type": "stream",
     "text": [
      "Page - 25 Added\n"
     ]
    },
    {
     "name": "stderr",
     "output_type": "stream",
     "text": [
      "/var/folders/zr/1v6p3jt16mb2fqrhvvc6xhdc0000gn/T/ipykernel_58758/2138062201.py:5: FutureWarning: The frame.append method is deprecated and will be removed from pandas in a future version. Use pandas.concat instead.\n",
      "  data = data.append(temp_data,ignore_index=True) #ignore_index because all the data have the same index for different pages\n"
     ]
    },
    {
     "name": "stdout",
     "output_type": "stream",
     "text": [
      "Page - 26 Added\n"
     ]
    },
    {
     "name": "stderr",
     "output_type": "stream",
     "text": [
      "/var/folders/zr/1v6p3jt16mb2fqrhvvc6xhdc0000gn/T/ipykernel_58758/2138062201.py:5: FutureWarning: The frame.append method is deprecated and will be removed from pandas in a future version. Use pandas.concat instead.\n",
      "  data = data.append(temp_data,ignore_index=True) #ignore_index because all the data have the same index for different pages\n"
     ]
    },
    {
     "name": "stdout",
     "output_type": "stream",
     "text": [
      "Page - 27 Added\n"
     ]
    },
    {
     "name": "stderr",
     "output_type": "stream",
     "text": [
      "/var/folders/zr/1v6p3jt16mb2fqrhvvc6xhdc0000gn/T/ipykernel_58758/2138062201.py:5: FutureWarning: The frame.append method is deprecated and will be removed from pandas in a future version. Use pandas.concat instead.\n",
      "  data = data.append(temp_data,ignore_index=True) #ignore_index because all the data have the same index for different pages\n"
     ]
    },
    {
     "name": "stdout",
     "output_type": "stream",
     "text": [
      "Page - 28 Added\n"
     ]
    },
    {
     "name": "stderr",
     "output_type": "stream",
     "text": [
      "/var/folders/zr/1v6p3jt16mb2fqrhvvc6xhdc0000gn/T/ipykernel_58758/2138062201.py:5: FutureWarning: The frame.append method is deprecated and will be removed from pandas in a future version. Use pandas.concat instead.\n",
      "  data = data.append(temp_data,ignore_index=True) #ignore_index because all the data have the same index for different pages\n"
     ]
    },
    {
     "name": "stdout",
     "output_type": "stream",
     "text": [
      "Page - 29 Added\n"
     ]
    },
    {
     "name": "stderr",
     "output_type": "stream",
     "text": [
      "/var/folders/zr/1v6p3jt16mb2fqrhvvc6xhdc0000gn/T/ipykernel_58758/2138062201.py:5: FutureWarning: The frame.append method is deprecated and will be removed from pandas in a future version. Use pandas.concat instead.\n",
      "  data = data.append(temp_data,ignore_index=True) #ignore_index because all the data have the same index for different pages\n"
     ]
    },
    {
     "name": "stdout",
     "output_type": "stream",
     "text": [
      "Page - 30 Added\n"
     ]
    },
    {
     "name": "stderr",
     "output_type": "stream",
     "text": [
      "/var/folders/zr/1v6p3jt16mb2fqrhvvc6xhdc0000gn/T/ipykernel_58758/2138062201.py:5: FutureWarning: The frame.append method is deprecated and will be removed from pandas in a future version. Use pandas.concat instead.\n",
      "  data = data.append(temp_data,ignore_index=True) #ignore_index because all the data have the same index for different pages\n"
     ]
    },
    {
     "name": "stdout",
     "output_type": "stream",
     "text": [
      "Page - 31 Added\n"
     ]
    },
    {
     "name": "stderr",
     "output_type": "stream",
     "text": [
      "/var/folders/zr/1v6p3jt16mb2fqrhvvc6xhdc0000gn/T/ipykernel_58758/2138062201.py:5: FutureWarning: The frame.append method is deprecated and will be removed from pandas in a future version. Use pandas.concat instead.\n",
      "  data = data.append(temp_data,ignore_index=True) #ignore_index because all the data have the same index for different pages\n"
     ]
    },
    {
     "name": "stdout",
     "output_type": "stream",
     "text": [
      "Page - 32 Added\n"
     ]
    },
    {
     "name": "stderr",
     "output_type": "stream",
     "text": [
      "/var/folders/zr/1v6p3jt16mb2fqrhvvc6xhdc0000gn/T/ipykernel_58758/2138062201.py:5: FutureWarning: The frame.append method is deprecated and will be removed from pandas in a future version. Use pandas.concat instead.\n",
      "  data = data.append(temp_data,ignore_index=True) #ignore_index because all the data have the same index for different pages\n"
     ]
    },
    {
     "name": "stdout",
     "output_type": "stream",
     "text": [
      "Page - 33 Added\n"
     ]
    },
    {
     "name": "stderr",
     "output_type": "stream",
     "text": [
      "/var/folders/zr/1v6p3jt16mb2fqrhvvc6xhdc0000gn/T/ipykernel_58758/2138062201.py:5: FutureWarning: The frame.append method is deprecated and will be removed from pandas in a future version. Use pandas.concat instead.\n",
      "  data = data.append(temp_data,ignore_index=True) #ignore_index because all the data have the same index for different pages\n"
     ]
    },
    {
     "name": "stdout",
     "output_type": "stream",
     "text": [
      "Page - 34 Added\n"
     ]
    },
    {
     "name": "stderr",
     "output_type": "stream",
     "text": [
      "/var/folders/zr/1v6p3jt16mb2fqrhvvc6xhdc0000gn/T/ipykernel_58758/2138062201.py:5: FutureWarning: The frame.append method is deprecated and will be removed from pandas in a future version. Use pandas.concat instead.\n",
      "  data = data.append(temp_data,ignore_index=True) #ignore_index because all the data have the same index for different pages\n"
     ]
    },
    {
     "name": "stdout",
     "output_type": "stream",
     "text": [
      "Page - 35 Added\n"
     ]
    },
    {
     "name": "stderr",
     "output_type": "stream",
     "text": [
      "/var/folders/zr/1v6p3jt16mb2fqrhvvc6xhdc0000gn/T/ipykernel_58758/2138062201.py:5: FutureWarning: The frame.append method is deprecated and will be removed from pandas in a future version. Use pandas.concat instead.\n",
      "  data = data.append(temp_data,ignore_index=True) #ignore_index because all the data have the same index for different pages\n"
     ]
    },
    {
     "name": "stdout",
     "output_type": "stream",
     "text": [
      "Page - 36 Added\n"
     ]
    },
    {
     "name": "stderr",
     "output_type": "stream",
     "text": [
      "/var/folders/zr/1v6p3jt16mb2fqrhvvc6xhdc0000gn/T/ipykernel_58758/2138062201.py:5: FutureWarning: The frame.append method is deprecated and will be removed from pandas in a future version. Use pandas.concat instead.\n",
      "  data = data.append(temp_data,ignore_index=True) #ignore_index because all the data have the same index for different pages\n"
     ]
    },
    {
     "name": "stdout",
     "output_type": "stream",
     "text": [
      "Page - 37 Added\n"
     ]
    },
    {
     "name": "stderr",
     "output_type": "stream",
     "text": [
      "/var/folders/zr/1v6p3jt16mb2fqrhvvc6xhdc0000gn/T/ipykernel_58758/2138062201.py:5: FutureWarning: The frame.append method is deprecated and will be removed from pandas in a future version. Use pandas.concat instead.\n",
      "  data = data.append(temp_data,ignore_index=True) #ignore_index because all the data have the same index for different pages\n"
     ]
    },
    {
     "name": "stdout",
     "output_type": "stream",
     "text": [
      "Page - 38 Added\n"
     ]
    },
    {
     "name": "stderr",
     "output_type": "stream",
     "text": [
      "/var/folders/zr/1v6p3jt16mb2fqrhvvc6xhdc0000gn/T/ipykernel_58758/2138062201.py:5: FutureWarning: The frame.append method is deprecated and will be removed from pandas in a future version. Use pandas.concat instead.\n",
      "  data = data.append(temp_data,ignore_index=True) #ignore_index because all the data have the same index for different pages\n"
     ]
    },
    {
     "name": "stdout",
     "output_type": "stream",
     "text": [
      "Page - 39 Added\n"
     ]
    },
    {
     "name": "stderr",
     "output_type": "stream",
     "text": [
      "/var/folders/zr/1v6p3jt16mb2fqrhvvc6xhdc0000gn/T/ipykernel_58758/2138062201.py:5: FutureWarning: The frame.append method is deprecated and will be removed from pandas in a future version. Use pandas.concat instead.\n",
      "  data = data.append(temp_data,ignore_index=True) #ignore_index because all the data have the same index for different pages\n"
     ]
    },
    {
     "name": "stdout",
     "output_type": "stream",
     "text": [
      "Page - 40 Added\n"
     ]
    },
    {
     "name": "stderr",
     "output_type": "stream",
     "text": [
      "/var/folders/zr/1v6p3jt16mb2fqrhvvc6xhdc0000gn/T/ipykernel_58758/2138062201.py:5: FutureWarning: The frame.append method is deprecated and will be removed from pandas in a future version. Use pandas.concat instead.\n",
      "  data = data.append(temp_data,ignore_index=True) #ignore_index because all the data have the same index for different pages\n"
     ]
    },
    {
     "name": "stdout",
     "output_type": "stream",
     "text": [
      "Page - 41 Added\n"
     ]
    },
    {
     "name": "stderr",
     "output_type": "stream",
     "text": [
      "/var/folders/zr/1v6p3jt16mb2fqrhvvc6xhdc0000gn/T/ipykernel_58758/2138062201.py:5: FutureWarning: The frame.append method is deprecated and will be removed from pandas in a future version. Use pandas.concat instead.\n",
      "  data = data.append(temp_data,ignore_index=True) #ignore_index because all the data have the same index for different pages\n"
     ]
    },
    {
     "name": "stdout",
     "output_type": "stream",
     "text": [
      "Page - 42 Added\n"
     ]
    },
    {
     "name": "stderr",
     "output_type": "stream",
     "text": [
      "/var/folders/zr/1v6p3jt16mb2fqrhvvc6xhdc0000gn/T/ipykernel_58758/2138062201.py:5: FutureWarning: The frame.append method is deprecated and will be removed from pandas in a future version. Use pandas.concat instead.\n",
      "  data = data.append(temp_data,ignore_index=True) #ignore_index because all the data have the same index for different pages\n"
     ]
    },
    {
     "name": "stdout",
     "output_type": "stream",
     "text": [
      "Page - 43 Added\n"
     ]
    },
    {
     "name": "stderr",
     "output_type": "stream",
     "text": [
      "/var/folders/zr/1v6p3jt16mb2fqrhvvc6xhdc0000gn/T/ipykernel_58758/2138062201.py:5: FutureWarning: The frame.append method is deprecated and will be removed from pandas in a future version. Use pandas.concat instead.\n",
      "  data = data.append(temp_data,ignore_index=True) #ignore_index because all the data have the same index for different pages\n"
     ]
    },
    {
     "name": "stdout",
     "output_type": "stream",
     "text": [
      "Page - 44 Added\n"
     ]
    },
    {
     "name": "stderr",
     "output_type": "stream",
     "text": [
      "/var/folders/zr/1v6p3jt16mb2fqrhvvc6xhdc0000gn/T/ipykernel_58758/2138062201.py:5: FutureWarning: The frame.append method is deprecated and will be removed from pandas in a future version. Use pandas.concat instead.\n",
      "  data = data.append(temp_data,ignore_index=True) #ignore_index because all the data have the same index for different pages\n"
     ]
    },
    {
     "name": "stdout",
     "output_type": "stream",
     "text": [
      "Page - 45 Added\n"
     ]
    },
    {
     "name": "stderr",
     "output_type": "stream",
     "text": [
      "/var/folders/zr/1v6p3jt16mb2fqrhvvc6xhdc0000gn/T/ipykernel_58758/2138062201.py:5: FutureWarning: The frame.append method is deprecated and will be removed from pandas in a future version. Use pandas.concat instead.\n",
      "  data = data.append(temp_data,ignore_index=True) #ignore_index because all the data have the same index for different pages\n"
     ]
    },
    {
     "name": "stdout",
     "output_type": "stream",
     "text": [
      "Page - 46 Added\n"
     ]
    },
    {
     "name": "stderr",
     "output_type": "stream",
     "text": [
      "/var/folders/zr/1v6p3jt16mb2fqrhvvc6xhdc0000gn/T/ipykernel_58758/2138062201.py:5: FutureWarning: The frame.append method is deprecated and will be removed from pandas in a future version. Use pandas.concat instead.\n",
      "  data = data.append(temp_data,ignore_index=True) #ignore_index because all the data have the same index for different pages\n"
     ]
    },
    {
     "name": "stdout",
     "output_type": "stream",
     "text": [
      "Page - 47 Added\n"
     ]
    },
    {
     "name": "stderr",
     "output_type": "stream",
     "text": [
      "/var/folders/zr/1v6p3jt16mb2fqrhvvc6xhdc0000gn/T/ipykernel_58758/2138062201.py:5: FutureWarning: The frame.append method is deprecated and will be removed from pandas in a future version. Use pandas.concat instead.\n",
      "  data = data.append(temp_data,ignore_index=True) #ignore_index because all the data have the same index for different pages\n"
     ]
    },
    {
     "name": "stdout",
     "output_type": "stream",
     "text": [
      "Page - 48 Added\n"
     ]
    },
    {
     "name": "stderr",
     "output_type": "stream",
     "text": [
      "/var/folders/zr/1v6p3jt16mb2fqrhvvc6xhdc0000gn/T/ipykernel_58758/2138062201.py:5: FutureWarning: The frame.append method is deprecated and will be removed from pandas in a future version. Use pandas.concat instead.\n",
      "  data = data.append(temp_data,ignore_index=True) #ignore_index because all the data have the same index for different pages\n"
     ]
    },
    {
     "name": "stdout",
     "output_type": "stream",
     "text": [
      "Page - 49 Added\n"
     ]
    },
    {
     "name": "stderr",
     "output_type": "stream",
     "text": [
      "/var/folders/zr/1v6p3jt16mb2fqrhvvc6xhdc0000gn/T/ipykernel_58758/2138062201.py:5: FutureWarning: The frame.append method is deprecated and will be removed from pandas in a future version. Use pandas.concat instead.\n",
      "  data = data.append(temp_data,ignore_index=True) #ignore_index because all the data have the same index for different pages\n"
     ]
    },
    {
     "name": "stdout",
     "output_type": "stream",
     "text": [
      "Page - 50 Added\n"
     ]
    },
    {
     "name": "stderr",
     "output_type": "stream",
     "text": [
      "/var/folders/zr/1v6p3jt16mb2fqrhvvc6xhdc0000gn/T/ipykernel_58758/2138062201.py:5: FutureWarning: The frame.append method is deprecated and will be removed from pandas in a future version. Use pandas.concat instead.\n",
      "  data = data.append(temp_data,ignore_index=True) #ignore_index because all the data have the same index for different pages\n"
     ]
    },
    {
     "name": "stdout",
     "output_type": "stream",
     "text": [
      "Page - 51 Added\n"
     ]
    },
    {
     "name": "stderr",
     "output_type": "stream",
     "text": [
      "/var/folders/zr/1v6p3jt16mb2fqrhvvc6xhdc0000gn/T/ipykernel_58758/2138062201.py:5: FutureWarning: The frame.append method is deprecated and will be removed from pandas in a future version. Use pandas.concat instead.\n",
      "  data = data.append(temp_data,ignore_index=True) #ignore_index because all the data have the same index for different pages\n"
     ]
    },
    {
     "name": "stdout",
     "output_type": "stream",
     "text": [
      "Page - 52 Added\n"
     ]
    },
    {
     "name": "stderr",
     "output_type": "stream",
     "text": [
      "/var/folders/zr/1v6p3jt16mb2fqrhvvc6xhdc0000gn/T/ipykernel_58758/2138062201.py:5: FutureWarning: The frame.append method is deprecated and will be removed from pandas in a future version. Use pandas.concat instead.\n",
      "  data = data.append(temp_data,ignore_index=True) #ignore_index because all the data have the same index for different pages\n"
     ]
    },
    {
     "name": "stdout",
     "output_type": "stream",
     "text": [
      "Page - 53 Added\n"
     ]
    },
    {
     "name": "stderr",
     "output_type": "stream",
     "text": [
      "/var/folders/zr/1v6p3jt16mb2fqrhvvc6xhdc0000gn/T/ipykernel_58758/2138062201.py:5: FutureWarning: The frame.append method is deprecated and will be removed from pandas in a future version. Use pandas.concat instead.\n",
      "  data = data.append(temp_data,ignore_index=True) #ignore_index because all the data have the same index for different pages\n"
     ]
    },
    {
     "name": "stdout",
     "output_type": "stream",
     "text": [
      "Page - 54 Added\n"
     ]
    },
    {
     "name": "stderr",
     "output_type": "stream",
     "text": [
      "/var/folders/zr/1v6p3jt16mb2fqrhvvc6xhdc0000gn/T/ipykernel_58758/2138062201.py:5: FutureWarning: The frame.append method is deprecated and will be removed from pandas in a future version. Use pandas.concat instead.\n",
      "  data = data.append(temp_data,ignore_index=True) #ignore_index because all the data have the same index for different pages\n"
     ]
    },
    {
     "name": "stdout",
     "output_type": "stream",
     "text": [
      "Page - 55 Added\n"
     ]
    },
    {
     "name": "stderr",
     "output_type": "stream",
     "text": [
      "/var/folders/zr/1v6p3jt16mb2fqrhvvc6xhdc0000gn/T/ipykernel_58758/2138062201.py:5: FutureWarning: The frame.append method is deprecated and will be removed from pandas in a future version. Use pandas.concat instead.\n",
      "  data = data.append(temp_data,ignore_index=True) #ignore_index because all the data have the same index for different pages\n"
     ]
    },
    {
     "name": "stdout",
     "output_type": "stream",
     "text": [
      "Page - 56 Added\n"
     ]
    },
    {
     "name": "stderr",
     "output_type": "stream",
     "text": [
      "/var/folders/zr/1v6p3jt16mb2fqrhvvc6xhdc0000gn/T/ipykernel_58758/2138062201.py:5: FutureWarning: The frame.append method is deprecated and will be removed from pandas in a future version. Use pandas.concat instead.\n",
      "  data = data.append(temp_data,ignore_index=True) #ignore_index because all the data have the same index for different pages\n"
     ]
    },
    {
     "name": "stdout",
     "output_type": "stream",
     "text": [
      "Page - 57 Added\n"
     ]
    },
    {
     "name": "stderr",
     "output_type": "stream",
     "text": [
      "/var/folders/zr/1v6p3jt16mb2fqrhvvc6xhdc0000gn/T/ipykernel_58758/2138062201.py:5: FutureWarning: The frame.append method is deprecated and will be removed from pandas in a future version. Use pandas.concat instead.\n",
      "  data = data.append(temp_data,ignore_index=True) #ignore_index because all the data have the same index for different pages\n"
     ]
    },
    {
     "name": "stdout",
     "output_type": "stream",
     "text": [
      "Page - 58 Added\n"
     ]
    },
    {
     "name": "stderr",
     "output_type": "stream",
     "text": [
      "/var/folders/zr/1v6p3jt16mb2fqrhvvc6xhdc0000gn/T/ipykernel_58758/2138062201.py:5: FutureWarning: The frame.append method is deprecated and will be removed from pandas in a future version. Use pandas.concat instead.\n",
      "  data = data.append(temp_data,ignore_index=True) #ignore_index because all the data have the same index for different pages\n"
     ]
    },
    {
     "name": "stdout",
     "output_type": "stream",
     "text": [
      "Page - 59 Added\n"
     ]
    },
    {
     "name": "stderr",
     "output_type": "stream",
     "text": [
      "/var/folders/zr/1v6p3jt16mb2fqrhvvc6xhdc0000gn/T/ipykernel_58758/2138062201.py:5: FutureWarning: The frame.append method is deprecated and will be removed from pandas in a future version. Use pandas.concat instead.\n",
      "  data = data.append(temp_data,ignore_index=True) #ignore_index because all the data have the same index for different pages\n"
     ]
    },
    {
     "name": "stdout",
     "output_type": "stream",
     "text": [
      "Page - 60 Added\n"
     ]
    },
    {
     "name": "stderr",
     "output_type": "stream",
     "text": [
      "/var/folders/zr/1v6p3jt16mb2fqrhvvc6xhdc0000gn/T/ipykernel_58758/2138062201.py:5: FutureWarning: The frame.append method is deprecated and will be removed from pandas in a future version. Use pandas.concat instead.\n",
      "  data = data.append(temp_data,ignore_index=True) #ignore_index because all the data have the same index for different pages\n"
     ]
    },
    {
     "name": "stdout",
     "output_type": "stream",
     "text": [
      "Page - 61 Added\n"
     ]
    },
    {
     "name": "stderr",
     "output_type": "stream",
     "text": [
      "/var/folders/zr/1v6p3jt16mb2fqrhvvc6xhdc0000gn/T/ipykernel_58758/2138062201.py:5: FutureWarning: The frame.append method is deprecated and will be removed from pandas in a future version. Use pandas.concat instead.\n",
      "  data = data.append(temp_data,ignore_index=True) #ignore_index because all the data have the same index for different pages\n"
     ]
    },
    {
     "name": "stdout",
     "output_type": "stream",
     "text": [
      "Page - 62 Added\n"
     ]
    },
    {
     "name": "stderr",
     "output_type": "stream",
     "text": [
      "/var/folders/zr/1v6p3jt16mb2fqrhvvc6xhdc0000gn/T/ipykernel_58758/2138062201.py:5: FutureWarning: The frame.append method is deprecated and will be removed from pandas in a future version. Use pandas.concat instead.\n",
      "  data = data.append(temp_data,ignore_index=True) #ignore_index because all the data have the same index for different pages\n"
     ]
    },
    {
     "name": "stdout",
     "output_type": "stream",
     "text": [
      "Page - 63 Added\n"
     ]
    },
    {
     "name": "stderr",
     "output_type": "stream",
     "text": [
      "/var/folders/zr/1v6p3jt16mb2fqrhvvc6xhdc0000gn/T/ipykernel_58758/2138062201.py:5: FutureWarning: The frame.append method is deprecated and will be removed from pandas in a future version. Use pandas.concat instead.\n",
      "  data = data.append(temp_data,ignore_index=True) #ignore_index because all the data have the same index for different pages\n"
     ]
    },
    {
     "name": "stdout",
     "output_type": "stream",
     "text": [
      "Page - 64 Added\n"
     ]
    },
    {
     "name": "stderr",
     "output_type": "stream",
     "text": [
      "/var/folders/zr/1v6p3jt16mb2fqrhvvc6xhdc0000gn/T/ipykernel_58758/2138062201.py:5: FutureWarning: The frame.append method is deprecated and will be removed from pandas in a future version. Use pandas.concat instead.\n",
      "  data = data.append(temp_data,ignore_index=True) #ignore_index because all the data have the same index for different pages\n"
     ]
    },
    {
     "name": "stdout",
     "output_type": "stream",
     "text": [
      "Page - 65 Added\n"
     ]
    },
    {
     "name": "stderr",
     "output_type": "stream",
     "text": [
      "/var/folders/zr/1v6p3jt16mb2fqrhvvc6xhdc0000gn/T/ipykernel_58758/2138062201.py:5: FutureWarning: The frame.append method is deprecated and will be removed from pandas in a future version. Use pandas.concat instead.\n",
      "  data = data.append(temp_data,ignore_index=True) #ignore_index because all the data have the same index for different pages\n"
     ]
    },
    {
     "name": "stdout",
     "output_type": "stream",
     "text": [
      "Page - 66 Added\n"
     ]
    },
    {
     "name": "stderr",
     "output_type": "stream",
     "text": [
      "/var/folders/zr/1v6p3jt16mb2fqrhvvc6xhdc0000gn/T/ipykernel_58758/2138062201.py:5: FutureWarning: The frame.append method is deprecated and will be removed from pandas in a future version. Use pandas.concat instead.\n",
      "  data = data.append(temp_data,ignore_index=True) #ignore_index because all the data have the same index for different pages\n"
     ]
    },
    {
     "name": "stdout",
     "output_type": "stream",
     "text": [
      "Page - 67 Added\n"
     ]
    },
    {
     "name": "stderr",
     "output_type": "stream",
     "text": [
      "/var/folders/zr/1v6p3jt16mb2fqrhvvc6xhdc0000gn/T/ipykernel_58758/2138062201.py:5: FutureWarning: The frame.append method is deprecated and will be removed from pandas in a future version. Use pandas.concat instead.\n",
      "  data = data.append(temp_data,ignore_index=True) #ignore_index because all the data have the same index for different pages\n"
     ]
    },
    {
     "name": "stdout",
     "output_type": "stream",
     "text": [
      "Page - 68 Added\n"
     ]
    },
    {
     "name": "stderr",
     "output_type": "stream",
     "text": [
      "/var/folders/zr/1v6p3jt16mb2fqrhvvc6xhdc0000gn/T/ipykernel_58758/2138062201.py:5: FutureWarning: The frame.append method is deprecated and will be removed from pandas in a future version. Use pandas.concat instead.\n",
      "  data = data.append(temp_data,ignore_index=True) #ignore_index because all the data have the same index for different pages\n"
     ]
    },
    {
     "name": "stdout",
     "output_type": "stream",
     "text": [
      "Page - 69 Added\n"
     ]
    },
    {
     "name": "stderr",
     "output_type": "stream",
     "text": [
      "/var/folders/zr/1v6p3jt16mb2fqrhvvc6xhdc0000gn/T/ipykernel_58758/2138062201.py:5: FutureWarning: The frame.append method is deprecated and will be removed from pandas in a future version. Use pandas.concat instead.\n",
      "  data = data.append(temp_data,ignore_index=True) #ignore_index because all the data have the same index for different pages\n"
     ]
    },
    {
     "name": "stdout",
     "output_type": "stream",
     "text": [
      "Page - 70 Added\n"
     ]
    },
    {
     "name": "stderr",
     "output_type": "stream",
     "text": [
      "/var/folders/zr/1v6p3jt16mb2fqrhvvc6xhdc0000gn/T/ipykernel_58758/2138062201.py:5: FutureWarning: The frame.append method is deprecated and will be removed from pandas in a future version. Use pandas.concat instead.\n",
      "  data = data.append(temp_data,ignore_index=True) #ignore_index because all the data have the same index for different pages\n"
     ]
    },
    {
     "name": "stdout",
     "output_type": "stream",
     "text": [
      "Page - 71 Added\n"
     ]
    },
    {
     "name": "stderr",
     "output_type": "stream",
     "text": [
      "/var/folders/zr/1v6p3jt16mb2fqrhvvc6xhdc0000gn/T/ipykernel_58758/2138062201.py:5: FutureWarning: The frame.append method is deprecated and will be removed from pandas in a future version. Use pandas.concat instead.\n",
      "  data = data.append(temp_data,ignore_index=True) #ignore_index because all the data have the same index for different pages\n"
     ]
    },
    {
     "name": "stdout",
     "output_type": "stream",
     "text": [
      "Page - 72 Added\n"
     ]
    },
    {
     "name": "stderr",
     "output_type": "stream",
     "text": [
      "/var/folders/zr/1v6p3jt16mb2fqrhvvc6xhdc0000gn/T/ipykernel_58758/2138062201.py:5: FutureWarning: The frame.append method is deprecated and will be removed from pandas in a future version. Use pandas.concat instead.\n",
      "  data = data.append(temp_data,ignore_index=True) #ignore_index because all the data have the same index for different pages\n"
     ]
    },
    {
     "name": "stdout",
     "output_type": "stream",
     "text": [
      "Page - 73 Added\n"
     ]
    },
    {
     "name": "stderr",
     "output_type": "stream",
     "text": [
      "/var/folders/zr/1v6p3jt16mb2fqrhvvc6xhdc0000gn/T/ipykernel_58758/2138062201.py:5: FutureWarning: The frame.append method is deprecated and will be removed from pandas in a future version. Use pandas.concat instead.\n",
      "  data = data.append(temp_data,ignore_index=True) #ignore_index because all the data have the same index for different pages\n"
     ]
    },
    {
     "name": "stdout",
     "output_type": "stream",
     "text": [
      "Page - 74 Added\n"
     ]
    },
    {
     "name": "stderr",
     "output_type": "stream",
     "text": [
      "/var/folders/zr/1v6p3jt16mb2fqrhvvc6xhdc0000gn/T/ipykernel_58758/2138062201.py:5: FutureWarning: The frame.append method is deprecated and will be removed from pandas in a future version. Use pandas.concat instead.\n",
      "  data = data.append(temp_data,ignore_index=True) #ignore_index because all the data have the same index for different pages\n"
     ]
    },
    {
     "name": "stdout",
     "output_type": "stream",
     "text": [
      "Page - 75 Added\n"
     ]
    },
    {
     "name": "stderr",
     "output_type": "stream",
     "text": [
      "/var/folders/zr/1v6p3jt16mb2fqrhvvc6xhdc0000gn/T/ipykernel_58758/2138062201.py:5: FutureWarning: The frame.append method is deprecated and will be removed from pandas in a future version. Use pandas.concat instead.\n",
      "  data = data.append(temp_data,ignore_index=True) #ignore_index because all the data have the same index for different pages\n"
     ]
    },
    {
     "name": "stdout",
     "output_type": "stream",
     "text": [
      "Page - 76 Added\n"
     ]
    },
    {
     "name": "stderr",
     "output_type": "stream",
     "text": [
      "/var/folders/zr/1v6p3jt16mb2fqrhvvc6xhdc0000gn/T/ipykernel_58758/2138062201.py:5: FutureWarning: The frame.append method is deprecated and will be removed from pandas in a future version. Use pandas.concat instead.\n",
      "  data = data.append(temp_data,ignore_index=True) #ignore_index because all the data have the same index for different pages\n"
     ]
    },
    {
     "name": "stdout",
     "output_type": "stream",
     "text": [
      "Page - 77 Added\n"
     ]
    },
    {
     "name": "stderr",
     "output_type": "stream",
     "text": [
      "/var/folders/zr/1v6p3jt16mb2fqrhvvc6xhdc0000gn/T/ipykernel_58758/2138062201.py:5: FutureWarning: The frame.append method is deprecated and will be removed from pandas in a future version. Use pandas.concat instead.\n",
      "  data = data.append(temp_data,ignore_index=True) #ignore_index because all the data have the same index for different pages\n"
     ]
    },
    {
     "name": "stdout",
     "output_type": "stream",
     "text": [
      "Page - 78 Added\n"
     ]
    },
    {
     "name": "stderr",
     "output_type": "stream",
     "text": [
      "/var/folders/zr/1v6p3jt16mb2fqrhvvc6xhdc0000gn/T/ipykernel_58758/2138062201.py:5: FutureWarning: The frame.append method is deprecated and will be removed from pandas in a future version. Use pandas.concat instead.\n",
      "  data = data.append(temp_data,ignore_index=True) #ignore_index because all the data have the same index for different pages\n"
     ]
    },
    {
     "name": "stdout",
     "output_type": "stream",
     "text": [
      "Page - 79 Added\n"
     ]
    },
    {
     "name": "stderr",
     "output_type": "stream",
     "text": [
      "/var/folders/zr/1v6p3jt16mb2fqrhvvc6xhdc0000gn/T/ipykernel_58758/2138062201.py:5: FutureWarning: The frame.append method is deprecated and will be removed from pandas in a future version. Use pandas.concat instead.\n",
      "  data = data.append(temp_data,ignore_index=True) #ignore_index because all the data have the same index for different pages\n"
     ]
    },
    {
     "name": "stdout",
     "output_type": "stream",
     "text": [
      "Page - 80 Added\n"
     ]
    },
    {
     "name": "stderr",
     "output_type": "stream",
     "text": [
      "/var/folders/zr/1v6p3jt16mb2fqrhvvc6xhdc0000gn/T/ipykernel_58758/2138062201.py:5: FutureWarning: The frame.append method is deprecated and will be removed from pandas in a future version. Use pandas.concat instead.\n",
      "  data = data.append(temp_data,ignore_index=True) #ignore_index because all the data have the same index for different pages\n"
     ]
    },
    {
     "name": "stdout",
     "output_type": "stream",
     "text": [
      "Page - 81 Added\n"
     ]
    },
    {
     "name": "stderr",
     "output_type": "stream",
     "text": [
      "/var/folders/zr/1v6p3jt16mb2fqrhvvc6xhdc0000gn/T/ipykernel_58758/2138062201.py:5: FutureWarning: The frame.append method is deprecated and will be removed from pandas in a future version. Use pandas.concat instead.\n",
      "  data = data.append(temp_data,ignore_index=True) #ignore_index because all the data have the same index for different pages\n"
     ]
    },
    {
     "name": "stdout",
     "output_type": "stream",
     "text": [
      "Page - 82 Added\n"
     ]
    },
    {
     "name": "stderr",
     "output_type": "stream",
     "text": [
      "/var/folders/zr/1v6p3jt16mb2fqrhvvc6xhdc0000gn/T/ipykernel_58758/2138062201.py:5: FutureWarning: The frame.append method is deprecated and will be removed from pandas in a future version. Use pandas.concat instead.\n",
      "  data = data.append(temp_data,ignore_index=True) #ignore_index because all the data have the same index for different pages\n"
     ]
    },
    {
     "name": "stdout",
     "output_type": "stream",
     "text": [
      "Page - 83 Added\n"
     ]
    },
    {
     "name": "stderr",
     "output_type": "stream",
     "text": [
      "/var/folders/zr/1v6p3jt16mb2fqrhvvc6xhdc0000gn/T/ipykernel_58758/2138062201.py:5: FutureWarning: The frame.append method is deprecated and will be removed from pandas in a future version. Use pandas.concat instead.\n",
      "  data = data.append(temp_data,ignore_index=True) #ignore_index because all the data have the same index for different pages\n"
     ]
    },
    {
     "name": "stdout",
     "output_type": "stream",
     "text": [
      "Page - 84 Added\n"
     ]
    },
    {
     "name": "stderr",
     "output_type": "stream",
     "text": [
      "/var/folders/zr/1v6p3jt16mb2fqrhvvc6xhdc0000gn/T/ipykernel_58758/2138062201.py:5: FutureWarning: The frame.append method is deprecated and will be removed from pandas in a future version. Use pandas.concat instead.\n",
      "  data = data.append(temp_data,ignore_index=True) #ignore_index because all the data have the same index for different pages\n"
     ]
    },
    {
     "name": "stdout",
     "output_type": "stream",
     "text": [
      "Page - 85 Added\n"
     ]
    },
    {
     "name": "stderr",
     "output_type": "stream",
     "text": [
      "/var/folders/zr/1v6p3jt16mb2fqrhvvc6xhdc0000gn/T/ipykernel_58758/2138062201.py:5: FutureWarning: The frame.append method is deprecated and will be removed from pandas in a future version. Use pandas.concat instead.\n",
      "  data = data.append(temp_data,ignore_index=True) #ignore_index because all the data have the same index for different pages\n"
     ]
    },
    {
     "name": "stdout",
     "output_type": "stream",
     "text": [
      "Page - 86 Added\n"
     ]
    },
    {
     "name": "stderr",
     "output_type": "stream",
     "text": [
      "/var/folders/zr/1v6p3jt16mb2fqrhvvc6xhdc0000gn/T/ipykernel_58758/2138062201.py:5: FutureWarning: The frame.append method is deprecated and will be removed from pandas in a future version. Use pandas.concat instead.\n",
      "  data = data.append(temp_data,ignore_index=True) #ignore_index because all the data have the same index for different pages\n"
     ]
    },
    {
     "name": "stdout",
     "output_type": "stream",
     "text": [
      "Page - 87 Added\n"
     ]
    },
    {
     "name": "stderr",
     "output_type": "stream",
     "text": [
      "/var/folders/zr/1v6p3jt16mb2fqrhvvc6xhdc0000gn/T/ipykernel_58758/2138062201.py:5: FutureWarning: The frame.append method is deprecated and will be removed from pandas in a future version. Use pandas.concat instead.\n",
      "  data = data.append(temp_data,ignore_index=True) #ignore_index because all the data have the same index for different pages\n"
     ]
    }
   ],
   "source": [
    "for i in range(1,total_page+1):\n",
    "    print(f'Page - {i} Added')\n",
    "    response = requests.get('https://api.themoviedb.org/3/discover/tv?include_adult=false&language=en-US&page={}&sort_by=vote_average.desc&vote_count.gte=200&api_key=db1dacc11b43df2e7f2c0a45b48a341e'.format(i))\n",
    "    temp_data = pd.DataFrame(response.json()['results'])[['id','first_air_date','name','overview','popularity','vote_average','vote_count']]\n",
    "    data = data.append(temp_data,ignore_index=True) #ignore_index because all the data have the same index for different pages\n",
    "    "
   ]
  },
  {
   "cell_type": "code",
   "execution_count": 50,
   "id": "09ba280a",
   "metadata": {},
   "outputs": [
    {
     "data": {
      "text/html": [
       "<div>\n",
       "<style scoped>\n",
       "    .dataframe tbody tr th:only-of-type {\n",
       "        vertical-align: middle;\n",
       "    }\n",
       "\n",
       "    .dataframe tbody tr th {\n",
       "        vertical-align: top;\n",
       "    }\n",
       "\n",
       "    .dataframe thead th {\n",
       "        text-align: right;\n",
       "    }\n",
       "</style>\n",
       "<table border=\"1\" class=\"dataframe\">\n",
       "  <thead>\n",
       "    <tr style=\"text-align: right;\">\n",
       "      <th></th>\n",
       "      <th>id</th>\n",
       "      <th>first_air_date</th>\n",
       "      <th>name</th>\n",
       "      <th>overview</th>\n",
       "      <th>popularity</th>\n",
       "      <th>vote_average</th>\n",
       "      <th>vote_count</th>\n",
       "    </tr>\n",
       "  </thead>\n",
       "  <tbody>\n",
       "    <tr>\n",
       "      <th>0</th>\n",
       "      <td>1396</td>\n",
       "      <td>2008-01-20</td>\n",
       "      <td>Breaking Bad</td>\n",
       "      <td>When Walter White, a New Mexico chemistry teac...</td>\n",
       "      <td>230.307</td>\n",
       "      <td>8.9</td>\n",
       "      <td>11663</td>\n",
       "    </tr>\n",
       "    <tr>\n",
       "      <th>1</th>\n",
       "      <td>94605</td>\n",
       "      <td>2021-11-06</td>\n",
       "      <td>Arcane</td>\n",
       "      <td>Amid the stark discord of twin cities Piltover...</td>\n",
       "      <td>62.227</td>\n",
       "      <td>8.8</td>\n",
       "      <td>3047</td>\n",
       "    </tr>\n",
       "    <tr>\n",
       "      <th>2</th>\n",
       "      <td>100088</td>\n",
       "      <td>2023-01-15</td>\n",
       "      <td>The Last of Us</td>\n",
       "      <td>Twenty years after modern civilization has bee...</td>\n",
       "      <td>477.713</td>\n",
       "      <td>8.7</td>\n",
       "      <td>3442</td>\n",
       "    </tr>\n",
       "    <tr>\n",
       "      <th>3</th>\n",
       "      <td>60625</td>\n",
       "      <td>2013-12-02</td>\n",
       "      <td>Rick and Morty</td>\n",
       "      <td>Rick is a mentally-unbalanced but scientifical...</td>\n",
       "      <td>203.475</td>\n",
       "      <td>8.7</td>\n",
       "      <td>8193</td>\n",
       "    </tr>\n",
       "    <tr>\n",
       "      <th>4</th>\n",
       "      <td>37854</td>\n",
       "      <td>1999-10-20</td>\n",
       "      <td>One Piece</td>\n",
       "      <td>Years ago, the fearsome Pirate King, Gol D. Ro...</td>\n",
       "      <td>111.461</td>\n",
       "      <td>8.7</td>\n",
       "      <td>3722</td>\n",
       "    </tr>\n",
       "    <tr>\n",
       "      <th>...</th>\n",
       "      <td>...</td>\n",
       "      <td>...</td>\n",
       "      <td>...</td>\n",
       "      <td>...</td>\n",
       "      <td>...</td>\n",
       "      <td>...</td>\n",
       "      <td>...</td>\n",
       "    </tr>\n",
       "    <tr>\n",
       "      <th>1716</th>\n",
       "      <td>4386</td>\n",
       "      <td>1989-04-23</td>\n",
       "      <td>Baywatch</td>\n",
       "      <td>Join the Baywatch lifeguards on their thrillin...</td>\n",
       "      <td>74.323</td>\n",
       "      <td>5.9</td>\n",
       "      <td>370</td>\n",
       "    </tr>\n",
       "    <tr>\n",
       "      <th>1717</th>\n",
       "      <td>15632</td>\n",
       "      <td>2009-09-27</td>\n",
       "      <td>The Cleveland Show</td>\n",
       "      <td>The bizarre adventures of Cleveland Brown and ...</td>\n",
       "      <td>34.723</td>\n",
       "      <td>5.9</td>\n",
       "      <td>346</td>\n",
       "    </tr>\n",
       "    <tr>\n",
       "      <th>1718</th>\n",
       "      <td>108296</td>\n",
       "      <td>2022-07-14</td>\n",
       "      <td>Resident Evil</td>\n",
       "      <td>Nearly three decades after the discovery of th...</td>\n",
       "      <td>37.961</td>\n",
       "      <td>5.8</td>\n",
       "      <td>405</td>\n",
       "    </tr>\n",
       "    <tr>\n",
       "      <th>1719</th>\n",
       "      <td>4551</td>\n",
       "      <td>2006-06-21</td>\n",
       "      <td>America's Got Talent</td>\n",
       "      <td>A weekly talent competition where an array of ...</td>\n",
       "      <td>26.378</td>\n",
       "      <td>5.6</td>\n",
       "      <td>223</td>\n",
       "    </tr>\n",
       "    <tr>\n",
       "      <th>1720</th>\n",
       "      <td>130392</td>\n",
       "      <td>2021-09-03</td>\n",
       "      <td>The D'Amelio Show</td>\n",
       "      <td>From relative obscurity and a seemingly normal...</td>\n",
       "      <td>11.434</td>\n",
       "      <td>4.9</td>\n",
       "      <td>662</td>\n",
       "    </tr>\n",
       "  </tbody>\n",
       "</table>\n",
       "<p>1721 rows × 7 columns</p>\n",
       "</div>"
      ],
      "text/plain": [
       "          id first_air_date                  name  \\\n",
       "0       1396     2008-01-20          Breaking Bad   \n",
       "1      94605     2021-11-06                Arcane   \n",
       "2     100088     2023-01-15        The Last of Us   \n",
       "3      60625     2013-12-02        Rick and Morty   \n",
       "4      37854     1999-10-20             One Piece   \n",
       "...      ...            ...                   ...   \n",
       "1716    4386     1989-04-23              Baywatch   \n",
       "1717   15632     2009-09-27    The Cleveland Show   \n",
       "1718  108296     2022-07-14         Resident Evil   \n",
       "1719    4551     2006-06-21  America's Got Talent   \n",
       "1720  130392     2021-09-03     The D'Amelio Show   \n",
       "\n",
       "                                               overview  popularity  \\\n",
       "0     When Walter White, a New Mexico chemistry teac...     230.307   \n",
       "1     Amid the stark discord of twin cities Piltover...      62.227   \n",
       "2     Twenty years after modern civilization has bee...     477.713   \n",
       "3     Rick is a mentally-unbalanced but scientifical...     203.475   \n",
       "4     Years ago, the fearsome Pirate King, Gol D. Ro...     111.461   \n",
       "...                                                 ...         ...   \n",
       "1716  Join the Baywatch lifeguards on their thrillin...      74.323   \n",
       "1717  The bizarre adventures of Cleveland Brown and ...      34.723   \n",
       "1718  Nearly three decades after the discovery of th...      37.961   \n",
       "1719  A weekly talent competition where an array of ...      26.378   \n",
       "1720  From relative obscurity and a seemingly normal...      11.434   \n",
       "\n",
       "      vote_average  vote_count  \n",
       "0              8.9       11663  \n",
       "1              8.8        3047  \n",
       "2              8.7        3442  \n",
       "3              8.7        8193  \n",
       "4              8.7        3722  \n",
       "...            ...         ...  \n",
       "1716           5.9         370  \n",
       "1717           5.9         346  \n",
       "1718           5.8         405  \n",
       "1719           5.6         223  \n",
       "1720           4.9         662  \n",
       "\n",
       "[1721 rows x 7 columns]"
      ]
     },
     "execution_count": 50,
     "metadata": {},
     "output_type": "execute_result"
    }
   ],
   "source": [
    "data"
   ]
  },
  {
   "cell_type": "code",
   "execution_count": 52,
   "id": "e33824d1",
   "metadata": {},
   "outputs": [
    {
     "data": {
      "text/plain": [
       "(1721, 7)"
      ]
     },
     "execution_count": 52,
     "metadata": {},
     "output_type": "execute_result"
    }
   ],
   "source": [
    "data.shape"
   ]
  },
  {
   "cell_type": "code",
   "execution_count": 53,
   "id": "3e6b01b9",
   "metadata": {},
   "outputs": [],
   "source": [
    "data.to_csv('Movie_API.csv') # You can see a new csv file is being created in the folder"
   ]
  },
  {
   "cell_type": "code",
   "execution_count": null,
   "id": "29d467fb",
   "metadata": {},
   "outputs": [],
   "source": []
  }
 ],
 "metadata": {
  "kernelspec": {
   "display_name": "Python 3 (ipykernel)",
   "language": "python",
   "name": "python3"
  },
  "language_info": {
   "codemirror_mode": {
    "name": "ipython",
    "version": 3
   },
   "file_extension": ".py",
   "mimetype": "text/x-python",
   "name": "python",
   "nbconvert_exporter": "python",
   "pygments_lexer": "ipython3",
   "version": "3.10.2"
  }
 },
 "nbformat": 4,
 "nbformat_minor": 5
}
